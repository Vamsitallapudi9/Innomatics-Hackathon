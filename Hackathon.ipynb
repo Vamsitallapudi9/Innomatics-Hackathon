{
 "cells": [
  {
   "cell_type": "code",
   "execution_count": null,
   "id": "d6f25981",
   "metadata": {},
   "outputs": [],
   "source": [
    "import pandas as pd\n",
    "import numpy as np\n",
    "from sklearn.model_selection import train_test_split\n",
    "from sklearn.linear_model import LinearRegression"
   ]
  },
  {
   "cell_type": "code",
   "execution_count": null,
   "id": "c50292cf",
   "metadata": {},
   "outputs": [],
   "source": [
    "import warnings\n",
    "warnings.filterwarnings(\"ignore\")\n"
   ]
  },
  {
   "cell_type": "code",
   "execution_count": null,
   "id": "96070e63",
   "metadata": {},
   "outputs": [],
   "source": [
    "data=pd.read_csv(r\"C:\\Users\\vamsi\\Downloads\\dataframe_.csv\")"
   ]
  },
  {
   "cell_type": "code",
   "execution_count": null,
   "id": "6be6f661",
   "metadata": {},
   "outputs": [],
   "source": [
    "data"
   ]
  },
  {
   "cell_type": "code",
   "execution_count": null,
   "id": "f1d43c92",
   "metadata": {},
   "outputs": [],
   "source": [
    "# Checking for missing values\n",
    "print(\"Number of missing values:\", data.isna().sum().sum())\n",
    "# Checking for infinite values\n",
    "infinite_values = np.isinf(data).any().any()\n",
    "if infinite_values:\n",
    "    print(\"Infinite values found in the dataset\")\n",
    "else:\n",
    "    print(\"No infinite values found in the dataset\")"
   ]
  },
  {
   "cell_type": "code",
   "execution_count": null,
   "id": "5660bdc9",
   "metadata": {},
   "outputs": [],
   "source": [
    "\n",
    "# Remove rows with missing values\n",
    "data = data.dropna()\n",
    "\n"
   ]
  },
  {
   "cell_type": "code",
   "execution_count": null,
   "id": "3b6218b5",
   "metadata": {},
   "outputs": [],
   "source": [
    "len(data)"
   ]
  },
  {
   "cell_type": "code",
   "execution_count": null,
   "id": "ca1d4cdd",
   "metadata": {},
   "outputs": [],
   "source": [
    "import numpy as np\n",
    "\n",
    "# Calculation of mean\n",
    "mean = data.mean()\n",
    "print('mean of the data','\\n',mean)\n",
    "\n",
    "# Calculation of median\n",
    "median = np.median(data)\n",
    "print('median of the data','\\n',median)\n",
    "\n",
    "\n",
    "# Calculation of mode\n",
    "(values, counts) = np.unique(data, return_counts=True)\n",
    "index = np.argmax(counts)\n",
    "mode = values[index]\n",
    "print('mode of the data','\\n',mode)\n",
    "\n",
    "\n",
    "# Calculation of standard deviation\n",
    "std_dev = np.std(data)\n",
    "print('std dev of the data','\\n',std_dev)"
   ]
  },
  {
   "cell_type": "code",
   "execution_count": null,
   "id": "0f6efe4f",
   "metadata": {},
   "outputs": [],
   "source": [
    "\n",
    "X = data[['input']]\n",
    "y = data[['output']]\n",
    "\n",
    "X_train, X_test, y_train, y_test = train_test_split(X, y, test_size=0.3, random_state=0)\n"
   ]
  },
  {
   "cell_type": "code",
   "execution_count": null,
   "id": "290bcf1c",
   "metadata": {},
   "outputs": [],
   "source": [
    "print(len(X_train),len(X_test) ,len(y_train) ,len(y_test) )"
   ]
  },
  {
   "cell_type": "code",
   "execution_count": null,
   "id": "191d5ef5",
   "metadata": {},
   "outputs": [],
   "source": [
    "regressor = LinearRegression()\n",
    "regressor.fit(X_train, y_train)\n"
   ]
  },
  {
   "cell_type": "code",
   "execution_count": null,
   "id": "5725f3cb",
   "metadata": {},
   "outputs": [],
   "source": [
    "y_pred = regressor.predict(X_test)"
   ]
  },
  {
   "cell_type": "code",
   "execution_count": null,
   "id": "2ea9eb71",
   "metadata": {},
   "outputs": [],
   "source": [
    "\n",
    "import seaborn as sns\n",
    "import matplotlib.pyplot as plt\n",
    "\n",
    "\n",
    "sns.regplot(x=y_test, y=y_pred, color=\"blue\")\n",
    "plt.xlabel(\"True Values\")\n",
    "plt.ylabel(\"Predictions\")\n",
    "plt.title(\"Prediction vs True Value\")\n",
    "plt.show()\n"
   ]
  },
  {
   "cell_type": "code",
   "execution_count": null,
   "id": "15bcc85e",
   "metadata": {},
   "outputs": [],
   "source": [
    "import seaborn as sns\n",
    "import matplotlib.pyplot as plt\n",
    "\n",
    "sns.scatterplot(x=data['input'], y=data['output'])\n",
    "plt.show()"
   ]
  },
  {
   "cell_type": "code",
   "execution_count": null,
   "id": "1e0448d1",
   "metadata": {},
   "outputs": [],
   "source": [
    "import numpy as np\n",
    "\n",
    "Q1 = data['input'].quantile(0.25)\n",
    "Q3 = data['input'].quantile(0.75)\n",
    "IQR = Q3 - Q1\n",
    "outliers = data[(data['input'] < (Q1 - 1.5 * IQR)) | (data['input'] > (Q3 + 1.5 * IQR))]\n",
    "\n",
    "print(\"Outliers:\")\n",
    "print(outliers)\n"
   ]
  },
  {
   "cell_type": "code",
   "execution_count": null,
   "id": "a0940197",
   "metadata": {},
   "outputs": [],
   "source": [
    "correlation = data['input'].corr(data['output'])\n",
    "print(\"Correlation between input and output:\", correlation)"
   ]
  },
  {
   "cell_type": "code",
   "execution_count": null,
   "id": "e1e49913",
   "metadata": {},
   "outputs": [],
   "source": [
    "\n",
    "# calculate the correlation between the input and output columns\n",
    "correlation = data['input'].corr(data['output'])\n",
    "print(\"Correlation between input and output:\", correlation)\n",
    "\n",
    "# create new features based on existing features\n",
    "data['input_squared'] = data['input'] ** 2\n",
    "\n",
    "\n",
    "# normalize the features using StandardScaler\n",
    "scaler = StandardScaler()\n",
    "data[['input', 'input_squared']] = scaler.fit_transform(data[['input', 'input_squared']])\n",
    "\n",
    "# add interaction terms\n",
    "data['input_output'] = data['input'] * data['output']\n",
    "\n",
    "# display the data after feature engineering\n",
    "print(\"Data after feature engineering:\")\n",
    "print(data.head())\n"
   ]
  },
  {
   "cell_type": "code",
   "execution_count": null,
   "id": "42215463",
   "metadata": {},
   "outputs": [],
   "source": [
    "import pandas as pd\n",
    "import numpy as np\n",
    "from sklearn.preprocessing import StandardScaler\n",
    "from sklearn.linear_model import LinearRegression\n"
   ]
  },
  {
   "cell_type": "code",
   "execution_count": null,
   "id": "ef588e8e",
   "metadata": {},
   "outputs": [],
   "source": [
    "# calculate the correlation between the input and output columns\n",
    "correlation = data['input'].corr(data['output'])\n",
    "print(\"Correlation between input and output:\", correlation)\n"
   ]
  },
  {
   "cell_type": "code",
   "execution_count": null,
   "id": "8b84de5f",
   "metadata": {},
   "outputs": [],
   "source": [
    "# create new features based on existing features\n",
    "data['input_squared'] = data['input'] ** 2\n",
    "data['log_input'] = np.log(data['input'])\n"
   ]
  },
  {
   "cell_type": "code",
   "execution_count": null,
   "id": "329cffaf",
   "metadata": {},
   "outputs": [],
   "source": [
    "# normalize the features using StandardScaler\n",
    "scaler = StandardScaler()\n",
    "data[['input', 'input_squared', 'log_input']] = scaler.fit_transform(data[['input', 'input_squared', 'log_input']])\n"
   ]
  },
  {
   "cell_type": "code",
   "execution_count": null,
   "id": "b3906712",
   "metadata": {},
   "outputs": [],
   "source": [
    "\n",
    "data['input_output'] = data['input'] * data['output']\n"
   ]
  },
  {
   "cell_type": "code",
   "execution_count": null,
   "id": "e62f9348",
   "metadata": {},
   "outputs": [],
   "source": [
    "# split the data into features (X) and target (y)\n",
    "X = data[['input', 'input_squared', 'log_input', 'input_output']]\n",
    "y = data['output']\n",
    "data = data.dropna()"
   ]
  },
  {
   "cell_type": "code",
   "execution_count": null,
   "id": "08f82c76",
   "metadata": {},
   "outputs": [],
   "source": [
    "# fit a linear regression model to the data\n",
    "model = LinearRegression().fit(X, y)\n"
   ]
  },
  {
   "cell_type": "code",
   "execution_count": null,
   "id": "5dc19960",
   "metadata": {},
   "outputs": [],
   "source": [
    "print(\"Number of rows with invalid values:\", data.isnull().sum().sum())"
   ]
  },
  {
   "cell_type": "code",
   "execution_count": null,
   "id": "25934b38",
   "metadata": {},
   "outputs": [],
   "source": [
    "\n",
    "\n",
    "\n",
    "\n",
    "\n",
    "\n",
    "\n",
    "\n",
    "# display the coefficients of the model\n",
    "print(\"Model coefficients:\", model.coef_)\n"
   ]
  },
  {
   "cell_type": "code",
   "execution_count": null,
   "id": "a1784244",
   "metadata": {},
   "outputs": [],
   "source": []
  }
 ],
 "metadata": {
  "kernelspec": {
   "display_name": "Python 3 (ipykernel)",
   "language": "python",
   "name": "python3"
  },
  "language_info": {
   "codemirror_mode": {
    "name": "ipython",
    "version": 3
   },
   "file_extension": ".py",
   "mimetype": "text/x-python",
   "name": "python",
   "nbconvert_exporter": "python",
   "pygments_lexer": "ipython3",
   "version": "3.9.12"
  }
 },
 "nbformat": 4,
 "nbformat_minor": 5
}
